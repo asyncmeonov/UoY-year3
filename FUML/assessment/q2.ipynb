{
 "cells": [
  {
   "cell_type": "code",
   "execution_count": 4,
   "metadata": {
    "collapsed": true,
    "pycharm": {
     "is_executing": false
    }
   },
   "outputs": [],
   "source": [
    "import sys\n",
    "import numpy as np\n",
    "import matplotlib.pyplot as plt\n",
    "from sklearn.linear_model import LinearRegression, Lasso, Ridge, RidgeCV, LassoCV\n",
    "from sklearn.model_selection import cross_val_score\n",
    "\n",
    "##accessing columns| ndarray[:,col_i]\n",
    "##accessing rows   | ndarray[row_i,:]\n",
    "##python q2.py continuous.csv secrettestset.csv\n",
    "#then it (1) estimates the parameters of your regression model from the data in\n",
    "#continuous.csv and \n",
    "# (2) outputs the predicted Y value for each data point in\n",
    "#secrettest.csv and also the R2 value for the fitted regression model when evaluated on\n",
    "#secrettest.csv.\n",
    "\n",
    "raw_train_data = sys.argv[1]\n",
    "raw_secret_data = sys.argv[2]"
   ]
  },
  {
   "cell_type": "code",
   "source": [
    "def data_loader(data):\n",
    "    f = data[:,0:10]\n",
    "    t = data[:,[10]]\n",
    "    return f,t"
   ],
   "metadata": {
    "collapsed": false,
    "pycharm": {
     "name": "#%%\n",
     "is_executing": false
    }
   },
   "execution_count": null,
   "outputs": []
  },
  {
   "cell_type": "code",
   "execution_count": 6,
   "outputs": [],
   "source": [
    "#data = np.genfromtxt('continuous.csv', delimiter=',')\n",
    "#secret = np.genfromtxt('secrettest.csv', delimiter=',')\n",
    "data = np.genfromtxt(raw_train_data, delimiter=',')\n",
    "secret = np.genfromtxt(raw_secret_data, delimiter=',')\n",
    "features,target = data_loader(data)\n",
    "f_secret, t_secret = data_loader(secret)"
   ],
   "metadata": {
    "collapsed": false,
    "pycharm": {
     "name": "#%%\n",
     "is_executing": false
    }
   }
  },
  {
   "cell_type": "code",
   "execution_count": 7,
   "outputs": [],
   "source": [
    "def print_exam(model, t_features, t_target):\n",
    "    print(\"R^2 value for the secret test %.3f\" % model.score(t_features,t_target))\n",
    "    print(\"Predictions for the secret test:\")\n",
    "    print(model.predict(t_features))\n",
    "\n",
    "def evaluate(model, Xt, Yt, has_plot = False):\n",
    "    print(\"=\"*50)\n",
    "    name = type(model).__name__\n",
    "    print(\"Metrics for\", name)\n",
    "    print(\"R^2 value %.3f\" % model.score(Xt,Yt))\n",
    "    print(\"CrossValidated R^2 values at 3 folds:\", cross_val_score(model, Xt, Yt,scoring='r2', cv=3))\n",
    "    print(\"Coefficients:\", model.coef_)\n",
    "    print(\"Intercept i.e. beta0\", model.intercept_)\n",
    "    if has_plot:\n",
    "        for i in range(len(Xt[0])):\n",
    "            sorted_index = np.argsort(Xt[:,i])\n",
    "            sX = np.sort(Xt[:,i])\n",
    "            sY = Yt[sorted_index]\n",
    "            plot(sX, sY, model.predict(Xt),(\"X\"+str(i+1),\"Target\"))\n",
    "    print(\"=\"*50)"
   ],
   "metadata": {
    "collapsed": false,
    "pycharm": {
     "name": "#%%\n",
     "is_executing": false
    }
   }
  },
  {
   "cell_type": "code",
   "execution_count": 8,
   "outputs": [],
   "source": [
    "def plot(X, Y, pred = None, labels = (\"Feature\",\"Target\")):\n",
    "    plt.xlabel(labels[0])\n",
    "    plt.ylabel(labels[1])\n",
    "    plt.plot(X, Y, 'o', label='data')\n",
    "    if pred is not None : plt.plot(X, pred, color='blue', linewidth=3)\n",
    "    plt.show()"
   ],
   "metadata": {
    "collapsed": false,
    "pycharm": {
     "name": "#%%\n",
     "is_executing": false
    }
   }
  },
  {
   "cell_type": "code",
   "execution_count": 12,
   "outputs": [
    {
     "name": "stdout",
     "text": [
      "CVLasso Regression\n==================================================\nMetrics for Lasso\nR^2 value 0.984\nCrossValidated R^2 values at 3 folds: [  0.85716983   0.77093571 -81.43584189]\nCoefficients: [ 9.13699415 -1.47329235  4.20002768]\nIntercept i.e. beta0 [4.99751925]\n==================================================\nR^2 value for the secret test 0.984\nPredictions for the secret test:\n[ -7.79119694 -56.56395855  40.51831255 -13.41397411  -1.43206414\n -34.34271089  25.67996117  26.70745749]\n"
     ],
     "output_type": "stream"
    }
   ],
   "source": [
    "print(\"CVLasso Regression\")\n",
    "r2_features = (features[:,[6,7,9]]) #derived from LassoCV previous LassoCV\n",
    "r2_lassoCV = Lasso(alpha=0.2627152448819272).fit(r2_features,target)\n",
    "evaluate(r2_lassoCV, r2_features, target, False)\n",
    "\n",
    "print_exam(r2_lassoCV,f_secret,t_secret)"
   ],
   "metadata": {
    "collapsed": false,
    "pycharm": {
     "name": "#%%\n",
     "is_executing": false
    }
   }
  }
 ],
 "metadata": {
  "kernelspec": {
   "display_name": "Python 3",
   "language": "python",
   "name": "python3"
  },
  "language_info": {
   "codemirror_mode": {
    "name": "ipython",
    "version": 2
   },
   "file_extension": ".py",
   "mimetype": "text/x-python",
   "name": "python",
   "nbconvert_exporter": "python",
   "pygments_lexer": "ipython2",
   "version": "2.7.6"
  },
  "pycharm": {
   "stem_cell": {
    "cell_type": "raw",
    "source": [],
    "metadata": {
     "collapsed": false
    }
   }
  }
 },
 "nbformat": 4,
 "nbformat_minor": 0
}