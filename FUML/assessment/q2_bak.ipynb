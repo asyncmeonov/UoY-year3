{
 "cells": [
  {
   "cell_type": "code",
   "execution_count": 751,
   "metadata": {
    "collapsed": true,
    "pycharm": {
     "is_executing": false
    }
   },
   "outputs": [],
   "source": [
    "import numpy as np\n",
    "import matplotlib.pyplot as plt\n",
    "from sklearn.linear_model import LinearRegression, Lasso, Ridge, RidgeCV, LassoCV\n",
    "from sklearn.model_selection import cross_val_score\n",
    "\n",
    "##accessing columns| ndarray[:,col_i]\n",
    "##accessing rows   | ndarray[row_i,:]\n",
    "##python q2.py continuous.csv secrettestset.csv\n",
    "#then it (1) estimates the parameters of your regression model from the data in\n",
    "#continuous.csv and \n",
    "# (2) outputs the predicted Y value for each data point in\n",
    "#secrettest.csv and also the R2 value for the fitted regression model when evaluated on\n",
    "#secrettest.csv."
   ]
  },
  {
   "cell_type": "code",
   "execution_count": 752,
   "outputs": [],
   "source": [
    "def data_loader(data):\n",
    "    f = data[:,0:10]\n",
    "    t = data[:,[10]]\n",
    "    return f,t"
   ],
   "metadata": {
    "collapsed": false,
    "pycharm": {
     "name": "#%%\n",
     "is_executing": false
    }
   }
  },
  {
   "cell_type": "code",
   "execution_count": 753,
   "outputs": [
    {
     "name": "stdout",
     "text": [
      "[[ 1.51310295 -0.10339218 -0.12749365  4.12766827  0.85505075 -3.74785806\n  -3.92783902  6.33852155  1.79762012  7.72338274]\n [ 1.16838245  0.47518464 -0.84092448  3.79550633  0.36748158  3.69968141\n  -3.56642722  5.03857649 -2.64402754 -5.13133687]\n [ 1.93273794  1.0034921   0.2729996   2.73306788  2.66285102  6.9234767\n  -0.79380063 -5.09251838  9.20083108  8.39779624]\n [ 0.07393722  0.85402422  3.39643865  1.97852552 -1.8418167  -4.65256318\n  -0.44296847  4.35800368 -3.09552618 -1.89129219]\n [ 0.58058493  0.35921193 -0.11026297 -1.41232749  1.08156862 -2.42967563\n   0.45510467 -1.33030389  1.27592554 -2.98755141]\n [ 1.13149399  1.82856479 -1.22202037  0.10529109  0.0350207   5.27317557\n  -2.72329207  3.24507505 -0.90651851 -2.30393294]\n [ 0.20734055 -0.96926252  1.38131912  1.70420469 -3.15797975 -0.26862794\n   0.27819395  5.82547085 -4.83780118  6.36262642]\n [ 0.10575891  1.03071929  3.24903683  1.89999112 -2.13220795 -2.04734636\n   4.07142008  2.77054074  6.21716344 -2.71635989]]\n"
     ],
     "output_type": "stream"
    }
   ],
   "source": [
    "data = np.genfromtxt('continuous.csv', delimiter=',')\n",
    "#secret = np.genfromtxt('secrettest.csv', delimiter=',')\n",
    "secret = np.genfromtxt('oopsie.csv', delimiter=',')\n",
    "features,target = data_loader(data)\n",
    "print(features)\n",
    "f_secret, t_secret = data_loader(secret)"
   ],
   "metadata": {
    "collapsed": false,
    "pycharm": {
     "name": "#%%\n",
     "is_executing": false
    }
   }
  },
  {
   "cell_type": "code",
   "execution_count": 754,
   "outputs": [],
   "source": [
    "def print_exam(model, t_features, t_target):\n",
    "    print(\"R^2 value for the secret test %.3f\" % model.score(t_features,t_target))\n",
    "    print(\"Predictions for the secret test:\")\n",
    "    print(model.predict(t_features))\n",
    "\n",
    "def evaluate(model, Xt, Yt, has_plot = False):\n",
    "    print(\"=\"*50)\n",
    "    name = type(model).__name__\n",
    "    print(\"Metrics for\", name)\n",
    "    print(\"R^2 value %.3f\" % model.score(Xt,Yt))\n",
    "    print(\"CrossValidated R^2 values at 3 folds:\", cross_val_score(model, Xt, Yt,scoring='r2', cv=3))\n",
    "    print(\"Coefficients:\", model.coef_)\n",
    "    print(\"Intercept i.e. beta0\", model.intercept_)\n",
    "    if has_plot:\n",
    "        for i in range(len(Xt[0])):\n",
    "            #print(\"Now considering feature X\",i)\n",
    "            sorted_index = np.argsort(Xt[:,i])\n",
    "            #print(\"Sorted features' indices:\",sorted_index)\n",
    "            sX = np.sort(Xt[:,i])\n",
    "            #print(\"Sorted Features\",sX)\n",
    "            sY = Yt[sorted_index]\n",
    "            #print(\"Sorted Targets\", sY)\n",
    "            plot(sX, sY, model.predict(Xt),(\"X\"+str(i+1),\"Target\"))\n",
    "    print(\"=\"*50)"
   ],
   "metadata": {
    "collapsed": false,
    "pycharm": {
     "name": "#%%\n",
     "is_executing": false
    }
   }
  },
  {
   "cell_type": "code",
   "execution_count": 755,
   "outputs": [],
   "source": [
    "def plot(X, Y, pred = None, labels = (\"Feature\",\"Target\")):\n",
    "    plt.xlabel(labels[0])\n",
    "    plt.ylabel(labels[1])\n",
    "    plt.plot(X, Y, 'o', label='data')\n",
    "    if pred is not None : plt.plot(X, pred, color='blue', linewidth=3)\n",
    "    plt.show()"
   ],
   "metadata": {
    "collapsed": false,
    "pycharm": {
     "name": "#%%\n",
     "is_executing": false
    }
   }
  },
  {
   "cell_type": "code",
   "execution_count": 756,
   "outputs": [
    {
     "name": "stdout",
     "text": [
      "CV + Linear regression\n==================================================\nMetrics for LinearRegression\nR^2 value 1.000\nCrossValidated R^2 values at 3 folds: [-3.35925863e-02  3.32045211e-01 -3.43542121e+02]\nCoefficients: [[-0.94362887 -4.32424782 -1.79190439 -2.08891205 -2.5991196   0.53794002\n   7.96346904 -1.09684705  1.33241642  3.95700382]]\nIntercept i.e. beta0 [9.66432755]\n==================================================\n"
     ],
     "output_type": "stream"
    }
   ],
   "source": [
    "# LR is prone to overfitting. Training score is 1 where testing score is very low\n",
    "print(\"CV + Linear regression\")\n",
    "lr = LinearRegression().fit(features, target)\n",
    "evaluate(lr,features,target, False)"
   ],
   "metadata": {
    "collapsed": false,
    "pycharm": {
     "name": "#%%\n",
     "is_executing": false
    }
   }
  },
  {
   "cell_type": "code",
   "execution_count": 757,
   "outputs": [
    {
     "name": "stdout",
     "text": [
      "CV + Ridge\n==================================================\nMetrics for Ridge\nR^2 value 0.981\nCrossValidated R^2 values at 3 folds: [ 5.04853026e-01  3.58255491e-01 -4.28132206e+02]\nCoefficients: [[-0.80527779 -1.58322057  0.54180315 -2.06790023 -2.44095722  0.26951984\n   5.55220573 -1.42780245  1.33534639  3.81339487]]\nIntercept i.e. beta0 [5.3609943]\n==================================================\n"
     ],
     "output_type": "stream"
    }
   ],
   "source": [
    "print(\"CV + Ridge\")\n",
    "alphas = np.arange(0.1, 100, 0.5)\n",
    "ridgeCV = Ridge(alpha=8.6).fit(features,target)\n",
    "#print(\"Calculated L2 penalty: \",ridgeCV.alpha_)\n",
    "evaluate(ridgeCV,features,target,False)"
   ],
   "metadata": {
    "collapsed": false,
    "pycharm": {
     "name": "#%%\n",
     "is_executing": false
    }
   }
  },
  {
   "cell_type": "code",
   "execution_count": 758,
   "outputs": [
    {
     "name": "stdout",
     "text": [
      "{'alpha': 9.891060324462192, 'copy_X': True, 'fit_intercept': True, 'max_iter': 1000, 'normalize': False, 'positive': False, 'precompute': False, 'random_state': None, 'selection': 'cyclic', 'tol': 0.0001, 'warm_start': False}\n==================================================\nMetrics for Lasso\nR^2 value 0.958\nCrossValidated R^2 values at 3 folds: [   0.87219887    0.75356687 -688.02300149]\nCoefficients: [-0.         -0.          0.         -0.         -0.          0.\n  7.44803756 -1.01830367  0.16547295  3.71985357]\nIntercept i.e. beta0 [2.69300365]\n==================================================\n"
     ],
     "output_type": "stream"
    }
   ],
   "source": [
    "lassoCV = Lasso(alpha=9.891060324462192).fit(features,target)\n",
    "#lassoCV = LassoCV().fit(features,target)\n",
    "print(lassoCV.get_params())\n",
    "#print(\"Calculated L1 penalty:\", lassoCV.alpha_)\n",
    "evaluate(lassoCV, features, target,False)"
   ],
   "metadata": {
    "collapsed": false,
    "pycharm": {
     "name": "#%%\n",
     "is_executing": false
    }
   }
  },
  {
   "cell_type": "code",
   "execution_count": 759,
   "outputs": [
    {
     "name": "stdout",
     "text": [
      "CVLasso Regression\n{'alpha': 3.9930381235673518, 'copy_X': True, 'fit_intercept': True, 'max_iter': 1000, 'normalize': False, 'positive': False, 'precompute': False, 'random_state': None, 'selection': 'cyclic', 'tol': 0.0001, 'warm_start': False}\n==================================================\nMetrics for Lasso\nR^2 value 0.980\nCrossValidated R^2 values at 3 folds:",
      " [   0.58068651    0.77392715 -247.49619968]\nCoefficients: [ 8.50563338 -1.34733282  0.          4.02694095]\nIntercept i.e. beta0 [4.30093209]\n==================================================\n"
     ],
     "output_type": "stream"
    }
   ],
   "source": [
    "# #CV lasso penalises all but the last 4 features. We use a CVLasso model so that the penalty is automatically learned\n",
    "print(\"CVLasso Regression\")\n",
    "r_features = features[:,6:] #derived from LassoCV\n",
    "r_lassoCV = Lasso(alpha=3.9930381235673518).fit(r_features,target)\n",
    "print(r_lassoCV.get_params())\n",
    "#print(\"Calculated L1 penalty:\", r_lassoCV.alpha_)\n",
    "evaluate(r_lassoCV, r_features, target, False)"
   ],
   "metadata": {
    "collapsed": false,
    "pycharm": {
     "name": "#%%\n",
     "is_executing": false
    }
   }
  },
  {
   "cell_type": "code",
   "execution_count": 762,
   "outputs": [
    {
     "name": "stdout",
     "text": [
      "CVLasso Regression\n{'alpha': 0.2627152448819272, 'copy_X': True, 'fit_intercept': True, 'max_iter': 1000, 'normalize': False, 'positive': False, 'precompute': False, 'random_state': None, 'selection': 'cyclic', 'tol': 0.0001, 'warm_start': False}\n==================================================\nMetrics for Lasso\nR^2 value 0.984\nCrossValidated R^2 values at 3 folds: [  0.85716983   0.77093571 -81.43584189]\nCoefficients: [ 9.13699415 -1.47329235  4.20002768]\nIntercept i.e. beta0 [4.99751925]\n",
      "==================================================\n"
     ],
     "output_type": "stream"
    },
    {
     "data": {
      "text/plain": "<Figure size 432x288 with 1 Axes>",
      "image/png": "[encoded data removed]"
     },
     "metadata": {
      "needs_background": "light"
     },
     "output_type": "display_data"
    },
    {
     "data": {
      "text/plain": "<Figure size 432x288 with 1 Axes>",
      "image/png": "[encoded data removed]"
     },
     "metadata": {
      "needs_background": "light"
     },
     "output_type": "display_data"
    },
    {
     "data": {
      "text/plain": "<Figure size 432x288 with 1 Axes>",
      "image/png": "[encoded data removed]"
     },
     "metadata": {
      "needs_background": "light"
     },
     "output_type": "display_data"
    }
   ],
   "source": [
    "print(\"CVLasso Regression\")\n",
    "r2_features = (features[:,6:])[:,[0,1,3]] #derived from LassoCV\n",
    "r2_lassoCV = Lasso(alpha=0.2627152448819272).fit(r2_features,target)\n",
    "print(r2_lassoCV.get_params())\n",
    "#print(\"Calculated L1 penalty:\", r_lassoCV.alpha_)\n",
    "evaluate(r2_lassoCV, r2_features, target, True)"
   ],
   "metadata": {
    "collapsed": false,
    "pycharm": {
     "name": "#%%\n",
     "is_executing": false
    }
   }
  },
  {
   "cell_type": "code",
   "execution_count": 761,
   "outputs": [
    {
     "name": "stdout",
     "text": [
      "R^2 value for the secret test 0.958\nPredictions for the secret test:\n[ -3.98891829 -48.52601801  34.72753784 -12.59156914  -3.46482899\n -29.6149473   21.70041767  21.12015281]\nR^2 value for the secret test 0.980\n",
      "Predictions for the secret test:\n[ -6.5463185  -53.48602039  38.22790162 -12.95459866  -2.06644548\n -32.5123899   24.44022063  24.25947727]\nR^2 value for the secret test 0.984\nPredictions for the secret test:\n[ -7.79119694 -56.56395855  40.51831255 -13.41397411  -1.43206414\n -34.34271089  25.67996117  26.70745749]\n"
     ],
     "output_type": "stream"
    }
   ],
   "source": [
    "print_exam(lassoCV,features,target)\n",
    "print_exam(r_lassoCV,r_features,target)\n",
    "print_exam(r2_lassoCV,r2_features,target)\n",
    "\n",
    "# lst = [item for sublist in features for item in sublist]\n",
    "# plt.hist(lst, bins=\"auto\")\n",
    "# print(\"Pre flatten mean:\", np.mean(lst))\n",
    "# \n",
    "# scaler = StandardScaler().fit(features)\n",
    "# trans = scaler.transform(features) #apply scaler.inverse_transform(trans)\n",
    "# lst = [item for sublist in trans for item in sublist]\n",
    "# plt.hist(lst, bins=\"auto\")\n",
    "# print(\"Post flatten mean:\", np.mean(lst))"
   ],
   "metadata": {
    "collapsed": false,
    "pycharm": {
     "name": "#%%\n",
     "is_executing": false
    }
   }
  }
 ],
 "metadata": {
  "kernelspec": {
   "display_name": "Python 3",
   "language": "python",
   "name": "python3"
  },
  "language_info": {
   "codemirror_mode": {
    "name": "ipython",
    "version": 2
   },
   "file_extension": ".py",
   "mimetype": "text/x-python",
   "name": "python",
   "nbconvert_exporter": "python",
   "pygments_lexer": "ipython2",
   "version": "2.7.6"
  },
  "pycharm": {
   "stem_cell": {
    "cell_type": "raw",
    "source": [],
    "metadata": {
     "collapsed": false
    }
   }
  }
 },
 "nbformat": 4,
 "nbformat_minor": 0
}